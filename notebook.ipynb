{
 "cells": [
  {
   "cell_type": "code",
   "execution_count": 3,
   "metadata": {},
   "outputs": [
    {
     "data": {
      "text/plain": [
       "'\"The dog is very happy.\"'"
      ]
     },
     "execution_count": 3,
     "metadata": {},
     "output_type": "execute_result"
    }
   ],
   "source": [
    "MODEL = \"llama3\"\n",
    "\n",
    "from langchain_community.llms import Ollama\n",
    "from langchain_community.embeddings import OllamaEmbeddings\n",
    "\n",
    "model = Ollama(model=MODEL)\n",
    "embeddings = OllamaEmbeddings()\n",
    "\n",
    "model.invoke(\"Tell me sentence with just 5 words\")"
   ]
  },
  {
   "cell_type": "code",
   "execution_count": 4,
   "metadata": {},
   "outputs": [
    {
     "data": {
      "text/plain": [
       "\"Here's one:\\n\\nWhy don't eggs tell jokes?\\n\\n(wait for it...)\\n\\nBecause they'd crack each other up!\\n\\nHope that made you smile!\""
      ]
     },
     "execution_count": 4,
     "metadata": {},
     "output_type": "execute_result"
    }
   ],
   "source": [
    "from langchain_core.output_parsers import StrOutputParser\n",
    "\n",
    "parser = StrOutputParser()\n",
    "\n",
    "chain = model\n",
    "chain.invoke(\"Tell me a joke\")"
   ]
  },
  {
   "cell_type": "code",
   "execution_count": 5,
   "metadata": {},
   "outputs": [
    {
     "data": {
      "text/plain": [
       "[Document(page_content='Below are Champions league 2023/24 season all game information:   \\n \\nGroups information:  \\nGroup A: Bayern Munich, Copenhagen, Galatasaray, Manchester United  \\nGroup B: Arsenal, PSV, Lens, Sevilla  \\nGroup C: Real Madrid, Napoli, Braga, Union Berlin  \\nGroup D: Real  Sociedad, Inter, Benfica, RB Salzburg  \\nGroup E: Atletico Madrid, Lazio, Feyenoord, Celtic  \\nGroup F: Dortmund, PSG, Milan, Newcastle  \\nGroup G: Manchester City, RB Leipzig, Young Boys, Red Star Belgrade  \\nGroup H: Barcelona, Porto, Shakhtar Donetsk, Antwerp  \\n \\nGam es results:  \\n1. Milan 0 - 0 Newcastle. 19th September  2023, group stage matchday 1 of 6.  \\nAC Milan were held to a 0 -0 draw at San Siro in a hard -fought contest by a \\nNewcastle United side returning to the Champions League after a two -decade \\nabsence as the hosts  spurned numerous opportunities in the Group F opener \\non Tuesday.  \\nMilan\\'s Portugal winger Rafael Leão, who has scored in his last two games, \\nwas a constant threat down the left and kept the Newcastle defence busy but \\nwas let down by his finishing.  \\n\"We\\'re d isappointed, because when you play like this, you have to win,\" Milan \\nmanager Stefano Pioli said.  \\n\"The performance was all -round good, but we wanted to win. Our aim is to \\nprogress from this group and we wanted to start well. We didn\\'t take easy \\nchances.\"  \\nLast year\\'s Champions League semifinalists enjoyed a dominant opening spell \\nand tested Newcastle goalkeeper Nick Pope with long -range efforts from \\nTommaso Pobega and Leão before Samuel Chukwueze had a header saved.  \\nThe best opportunity of the first half fel l to Leão in the 34th minute but the 24 -\\nyear -old miscued an elaborate backheel after skipping past two defenders in \\nthe penalty area.  \\nThough Newcastle defended better after the break, Milan continued to press in \\ntheir search for an opener.  \\nHalf -time substi tute Alessandro Florenzi found Leão with an inch -perfect \\ncross in the 74th minute, but the Portuguese again failed to find the target as \\nhe put his header over the bar.  \\nMilan, who ended the night with a tally of 25 shots, were also dealt a double \\ninjury bl ow with midfielder Ruben Loftus -Cheek and keeper Mike Maignan \\nhaving to be substituted.', metadata={'source': 'Champions-league-2023-2data.pdf', 'page': 0}),\n",
       " Document(page_content='At the other end of the pitch, the visitors\\' efforts were limited to counter -\\nattacks.  \\nEddie Howe\\'s team had one attempt on target, which came when Sean \\nLongstaffforced substitute keeper Marco Sportiello into a save with a shot \\nfrom the edge of the area in the 95th minute.  \\n\"It was emotional. We take this draw and point, a point we fought to get and \\nwe\\'re happy about,\" said Newcastle midfielder Sandro Tonali, who left Mila n \\nin the close season.  \\nBut the draw could hurt both teams in a tough group featuring French \\nchampions Paris Saint -Germain and 1997 European Cup winners Borussia \\nDortmund, who meet later on Tuesday.  \\nMilan next travel to Germany for a clash with Dortmund, w hile Newcastle host \\nKylian Mbappé\\'s PSG at St James\\' Park.  \\n2. Young Boys 1 - 3 RB Leipzig. 19th September  2023, group stage matchday \\n1 of 6.  \\nRB Leipzig substitute Benjamin Šeško scored late to seal a 3 -1 win at Swiss \\nchampion Young Boys in their Champions Le ague opener on Tuesday.  \\nŠeško made sure of the win on a counter -attack in the second minute of injury \\ntime when Benjamin Henrichs raced clear after a Young Boys corner to set \\nhim up.  \\nThe home team had made a poor start as Leipzig attacked from the off and \\nforced three good chances in the first two minutes before Mohamed Simakan \\nscored from a corner in the third.  \\nXavi Simons was causing alarm running at the home team\\'s defenders and \\nalmost doubled the lead in the 13th.  \\nBut Young Boys gradually improved as th e half wore on. Ulisses Garcia \\ncrossed for Filip Ugrinic, who laid the ball off for Meschack Elia to fire into the \\ncorner in the 33rd.', metadata={'source': 'Champions-league-2023-2data.pdf', 'page': 1}),\n",
       " Document(page_content='Simons thought he should have been awarded a penalty early in the second \\nhalf when it appeared he was caught by Young Boy s\\' goalkeeper Anthony \\nRacioppi\\'s foot as he went past, but referee Enea Jorgji decided otherwise after \\nconsulting video replays. He booked Kevin Kampl for his protests.  \\nThe visitors remained proactive, however, and Leipzig substitute Šeško had a \\ngoal ruled  out through VAR for offside before Xaver Schlager finally scored in \\nthe 77th.  \\nŠeško\\'s goal came as Young Boys pushed forward for an equalizer.  \\n3. PSG 2 - 0 Dortmund. 19th September  2023, group stage matchday 1 of 6.  \\nKylian Mbappe was on form again as Paris St Germain kicked off their \\nChampions League campaign with a 2 -0 home victory over Borussia \\nDortmund on Tuesday, showing glimpses of what might be under new coach \\nLuis Enrique.  \\nMbappe opened the scoring with a second -half penalty and Achraf \\nHakimidoubled t he tally with a fine goal as PSG\\'s patience paid off at the Parc \\ndes Princes  \\nIt was only the third win in six competitive games for the Ligue 1 champions \\nthis season, and it gave them some much -needed relief after their first defeat \\nat the weekend as they dutifully applied Luis Enrique\\'s possession game.  \\nPSG top Group F with three points, two ahead of AC Milan and Newcastle, \\nwho drew 0 -0 earlier on Tuesday.  \\n\"It was important to start this campaign with a win,\" man of the match Vitinha \\nsaid.  \\nLuis Enrique add ed: \"What I liked the most? We were consistent. It was clear \\nwe were all full gas during the whole game. We were better during the whole', metadata={'source': 'Champions-league-2023-2data.pdf', 'page': 2}),\n",
       " Document(page_content='game. The most important was to attack and create chances. We won the \\nmatch thanks to our possession.\"  \\nThere was little  brilliance from the home side in their first grand outing of the \\nseason, but PSG were rarely in danger thanks to their domination of the \\nmidfield before everything seemed to click after Mbappe coolly buried his \\npenalty four minutes into the second half.  \\nDortmund had the first clear chance when Donyell Malen found some space in \\nthe PSG area, only for his shot to be easily saved by Gianluigi Donnarumma.  \\nPSG hit back five minutes later when Vitinha, who bossed the midfield in the \\nopening half, hit the woodwo rk with a fine shot from just outside the area.  \\nThe Portuguese had another opportunity after half an hour but his attempt \\nwas deflected and went over the bar.  \\nPSG lacked a cutting edge until early in the second half when Ousmane \\nDembélé, after a combinatio n with fullback Hakimi on the right flank, found \\nMbappe in the area and the French forward\\'s shot was handled by Niklas \\nSuele.  \\nMbappe converted the resulting penalty to give PSG a deserved lead and net \\nhis 11th goal in his last nine Champions League appear ances.  \\nHakimi doubled the advantage in the 58th minute with a delicate chip from \\nthe outside of his boot after being superbly set up by Vitinha.  \\nPSG then controlled the final 30 minutes and ended up with a clean sheet as \\nBorussia failed to threaten.  \\n4. Shakht ar Donetsk 1 - 3 Porto. 19th September  2023, group stage matchday \\n1 of 6.', metadata={'source': 'Champions-league-2023-2data.pdf', 'page': 3}),\n",
       " Document(page_content='Ukrainian champions Shakhtar Donetsk had a losing start at their new, \\ntemporary home in Germany as Galeno scored two goals and set up a third to \\nhelp FC Portoease to a 3 -1 win over  Shakhtar in the Champions League on \\nTuesday.  \\nShakhtar were welcomed by a near -capacity crowd of more than 46,700 at the \\nVolksparkstadion in its first \"home\" game in Germany. UEFA has ruled they \\ncan\\'t play home European games in Ukraine because of the Russ ian invasion.  \\nDespite the support for Shakhtar, it took Porto less than eight minutes to open \\nthe scoring as Shakhtar goalkeeper Dmytro Riznyk, back from injury, palmed \\na speculative shot away into the path of Galeno, who pounced to score.  \\nShakhtar used to  specialize in signing talented Brazilian players but since the \\ninvasion last year their focus has shifted to younger players and more locally \\ndeveloped talent.  \\nFive of the starting lineup were aged 22 or younger, led by 19 -year -old \\nVenezuelan forward Kevi n Kelsy, whose header to level the score at 1 -1 on his \\nChampions League debut in the 13th minute sparked jubilant celebrations. \\nUkrainian fans, including people displaced by the war, were among the crowd \\nin Hamburg, and the stadium roared its approval of K elsy\\'s goal.  \\nInexperience was on show in Shakhtar\\'s injury -depleted defence soon after, \\nthough, as Porto swiftly restored and extended their lead. A wayward pass \\nacross the defence from Danylo Sikan completely evaded 20 -year -old center -\\nback Stav Lemkin, al lowing Galeno to intercept and score past Riznyk.  \\nGaleno didn\\'t score Porto\\'s third goal but he inspired it with a surging run \\ndown the left flank before crossing for Mehdi Taremi to score. The Iranian \\nslipped in between midfielder Taras Stepanenko and lef t-back Novatus \\nMiroshi as Shakhtar\\'s central defenders were nowhere to be seen.  \\nPorto eased off in the second half and Shakhtar had limited success in their \\nattempts to get back into the game, though attacks down the right flank did \\nforce saves from Porto goalkeeper Diogo Costa at his near post. Lemkin limped', metadata={'source': 'Champions-league-2023-2data.pdf', 'page': 4}),\n",
       " Document(page_content='off clutching his thigh, which meant Shakhtar finished the game with Miroshi \\nout of position as a central defender.  \\n\"It\\'s a good feeling to win a game. We\\'re in the process of evolving the team so \\nthat we can create a stronger team,\" Porto coach Sérgio Conceição said.  \\n\"We\\'re happy with the three points, but I hope that now we can continue to \\nwin and get through to the next round, which is our big goal. We still have a \\nlong way to go to achieve our goal of reaching the last 16.\"  \\nShakhtar played their home games in Poland last year but are hosting teams in \\nGermany this season.  \\nThe Ukrainian league is still going on at home -- without fans -- and Shakhtar \\nhad to travel over the border to Poland by bus befor e it could board a flight to \\nHamburg in a journey taking nearly 10 hours in total. The games are also a test \\nof Hamburg\\'s Volksparkstadion before it hosts games at next year\\'s European \\nChampionship.  \\nBarcelona beat Royal Antwerp 5 -0 in the other game in Group H. Porto host \\nBarcelona Oct. 4 in their next game and Shakhtar visit Antwerp.  \\n5. Manchester City 3 - 1 Red Star Belgrade. 19th September  2023, group \\nstage matchday 1 of 6.  \\nHolders Manchester City recovered from falling a goal behind to outclass Red \\nStar Belgrade 3 -1 in their Group G opener with Julián Álvarez scoring twice at \\nThe Etihad on Tuesday.  \\nPep Guardiola\\'s side dominated the opening period but were guilty of wayward \\nfinishing and trailed to a sucker -punch just before halftime as Osman \\nBukaribrok e clear to finish in style.', metadata={'source': 'Champions-league-2023-2data.pdf', 'page': 5}),\n",
       " Document(page_content='City began the game on a 26 -match unbeaten run in Champions League home \\ngames and normal service was resumed almost immediately after the restart \\nas Álvarez levelled after combining with Erling Haaland.  \\nA misjudgement by Red Sta r keeper Omri Glazer allowed an Álvarez cross to \\ngo into the net on the hour and Rodri made it 3 -1 with a clinical finish after 73 \\nminutes as City made it 19 home wins in succession in all competitions.  \\nJust over three months since City finally claimed Eur ope\\'s biggest club prize \\nwith victory over Inter Milan in Istanbul they began their defence in ultimately \\ncomfortable fashion.  \\nBut for 45 minutes it looked as though it might be one of those nights as \\nchance after chance went begging.  \\nOnce Argentina\\'s Alva rez levelled in the 47th minute, however, only one \\noutcome looked likely.  \\n\"The last two games I didn\\'t know how many chances we missed,\" Guardiola \\nsaid.  \\n\"We played really, really good but we were not able to score goals. We were \\nconsistent and in the end w e won the game.\"  \\nNorwegian goal -machine Haaland has now gone four Champions League \\ngames without hitting the net and he was guilty of some poor misses in a first \\nhalf in which City\\'s 22 goal attempts were the most in the competition since \\ndata began to be compiled.  \\nHe headed one effort wide, another even easier chance against the crossbar \\nand then lashed a shot over.  \\nRed Star keeper Glazer was superb in the first half, denying Phil Foden from \\nclose range and also keeping out efforts by Nathan Aké and Rodri.', metadata={'source': 'Champions-league-2023-2data.pdf', 'page': 6}),\n",
       " Document(page_content='But City switched off in the 45th minute and a ball forward sent Bukari \\nthrough with only Éderson to beat.  \\nThe Ghanaian kept remarkably calm to place his shot beyond the City  keeper \\nbut his joy was initially curtailed by an offside flag before referee Joao \\nPinheiro allowed it to stand after an intervention by VAR.  \\nThe 3,000 travelling Belgrade fans celebrated and City could hardly believe it \\nas they headed off at half -time.  \\n\"I said \\'guys, we cannot say we are playing bad. Forget the result, we are able \\nto come back so go for it and be more calm\\',\" the City boss said of his halftime \\nteam talk.  \\nCity did not take long to make amends though after the break as Alvarez \\nplayed the bal l in to Haaland and then showed great desire to sprint into the \\narea and take a return pass before skipping around Glazer and slotting home \\nin the blink of an eye.  \\nKyle Walker had a goal ruled out for offside before the otherwise excellent \\nGlazer gifted th e hosts their second goal.  \\nAlvarez whipped in a right -footed cross with pace and Glazer flapped at thin \\nair with the ball nestling in the net.  \\nCity began to toy with a flagging Red Star and wrapped up the points when \\nRodri, scorer of the winner against Int er in June, produced a deadly right -foot \\nfinish from the left side of the penalty area.  \\n6. Lazio 1 - 1 Atletico Madrid. 19th September  2023, group stage matchday 1 \\nof 6. \\nLazio goalkeeper Ivan Provedel secured a crucial point at home for his team in \\nthe closi ng moments of their Champions League Group E match against', metadata={'source': 'Champions-league-2023-2data.pdf', 'page': 7}),\n",
       " Document(page_content=\"Atletico Madrid on Tuesday when he headed in the equaliser, giving them a 1 -1 \\ndraw.  \\nFive minutes into stoppage time, the goalkeeper ventured up the pitch for a \\nlast-ditch corner and headed home a c ross from Luis Alberto with one of the \\nfinal touches of the game.  \\nProvedel became the first goalkeeper to score in a Champions League match \\nsince Nigeria's Vincent Enyeama achieved the feat for Hapoel Tel Aviv 13 years \\nago, and only the fourth overall.  \\nThe outcome of the first -ever Champions League clash between the Lazio and \\nAtletico resulted in Feyenoord taking the top position in the group, thanks to \\ntheir 2 -0 victory over Celtic in a simultaneous match on Tuesday.  \\nMidfielder Pablo Barrios had broken the  deadlock for Atletico in the 29th \\nminute with a first -time strike from long range that deflected off defender \\nDaichi Kamada, completely wrong -footing Provedel.  \\nLazio controlled the first part of the match, during which Mattia \\nZaccagnichallenged Atletico goalkeeper Jan Oblak with a powerful free kick \\nover the wall. However, the Slovenia goalkeeper deflected it to a corner.  \\nAtletico came close to doubling their lead after the break, with Álvaro \\nMoratastriking the post, while Provedel made several close save s to keep Lazio \\nin the match.  \\nCiro Immobile attempted to get an equaliser for the Roman side in the early \\nminutes of the second half but missed a golden opportunity when he found \\nhimself clear on goal and poked the ball directly at Oblak.  \\nIn stoppage time,  Oblak came to Atletico's rescue when he tipped Danilo \\nCataldi's long -range rocket around the base of the post.\", metadata={'source': 'Champions-league-2023-2data.pdf', 'page': 8}),\n",
       " Document(page_content=\"7. Barcelona 5 - 0 Antwerp. 19th September  2023, group stage matchday 1 of \\n6. \\nBarcelona's new signing João Félix struck twice in a 5 -0 demolition of visiting \\nRoyal Antwerp  in their Champions League Group H opener at the Estadi \\nOlimpic Lluis Companys on Tuesday.  \\nAfter successive group stage eliminations, Barca gave debutants Antwerp a \\nfootball masterclass, dominating possession with quick passing as Felix, \\nRobert Lewandowski and Gavi all scored.  \\nLast -minute signing Felix opened the scoring with the home side's first \\nattempt in the 11th minute, netting with a low strike inside the near post.  \\nThe Portuguese then set up Lewandowski inside the box to doub le their lead \\neight minutes later as the Poland striker became the third player to score 100 \\ngoals in European competition after Cristiano Ronaldo and Lionel Messi.  \\nRaphinha helped make it 3 -0 to the five -time European champions after 22 \\nminutes when his s trike from a tight angle deflected off defender Jelle Bataille \\nfor an own goal.  \\nWinger Arbnor Muja had a chance to give the visitors a glimmer of hope just \\nbefore half -time, but his low effort from the edge of the box was kept out by \\ngoalkeeper Marc Andre ter Stegen.  \\nXavi Hernandez's Barca returned after the break determined to increase the \\nadvantage in their 28th Champions League group stage campaign, a \\ncompetition record shared with Real Madrid.  \\nThey did not have to wait long as Gavi made it 4 -0 by smashi ng the ball into \\nthe roof of the net before Felix added another goal with a header to complete \\nthe rout at Barca's temporary home while Camp Nou is being redeveloped.\", metadata={'source': 'Champions-league-2023-2data.pdf', 'page': 9}),\n",
       " Document(page_content=\"Barca's dominance was reflected in 22 goal attempts compared to only three \\nfrom Antwerp, who were playing in the Champions League after winning their \\ndomestic league title for the first time in more than 60 years last season.  \\nIt is the Belgian side's fifth successive campaign in Europe and their second in \\nthe continent's leading club competiti on after they featured in the European \\nCup in the 1957 -58 season.  \\n8. Feyenoord 2 -0 Celtic. 20th September  2023, group stage matchday 1 of 6.  \\nFeyenoord marked their return to the group phase of the Champions League \\nafter a five -year absence with 2 -0 win over nine -man Celtic on Tuesday to get \\ntheir campaign off to a winning start.  \\nCalvin Stengs broke the deadlock on the stroke of halftime and Alireza \\nJahanbakhsh added a second in the 76th minute of the Group E encounter \\nagainst the Scottish champions, who had t wo players sent off in the space of \\nfive minutes midway through the second half.  \\nGustaf Lagerbielke was sent off in the 63rd minute for a second caution after \\ncatching Igor Paixão with an elbow in the face, conceding a penalty at the same \\ntime. But goalkee per Joe Hart made a diving stop to deny Paixao from the \\nspot.  \\nThere was a straight red for Odin Thiago Holm in the 68th minute for a \\nchallenge on Mats Wieffer, putting Celtic, who had only received two red cards \\nin their previous 72 matches in the Champion s League combined, further on \\nthe back foot. The Norwegian had only been on the field for 10 minutes.  \\nStengs had scored the opening goal from a curling free kick and Jahanbakhsh \\nhammered home his goal not long after coming on.  \\nFeyenoord might well have won  by a larger margin as besides squandering the \\npenalty chance, they also had two strikes disallowed by VAR in tight offside \\ncalls.\", metadata={'source': 'Champions-league-2023-2data.pdf', 'page': 10}),\n",
       " Document(page_content='The defeat means Celtic kept up their unwanted record of never winning the \\nopening match of a group campaign.  \\n9. Real Madrid 1 - 0 Union Berlin. 20th September 2023, group stage \\nmatchday 1 of 6.  \\nJude Bellingham  scored deep in added time as Real Madrid wore down a \\nresilient Union Berlin to claim a 1 -0 win at the Santiago Bernabeu in their \\nGroup C opener on Wednesday, spoiling the Bu ndesliga side\\'s Champions \\nLeague debut.  \\nThe match in Madrid looked like it was heading for a draw when substitute \\nFederico Valverde\\'s shot ricocheted off two players in Union\\'s crowded penalty \\narea before falling to Bellingham, who turned it into the net f or his sixth goal \\nin six games this season.  \\nThe 94th -minute goal also ensured that Madrid kept up their 100% record this \\ncampaign, earning them a sixth straight win.  \\n\"I\\'m a confident lad but I really couldn\\'t have hoped for things to start as well \\nas this in terms of goals,\" said Bellingham, who was signed from Borussia \\nDortmund in June for €103 million ($109.94 million).  \\n\"We\\'ve played five in LaLiga, one in the Champions League and won all six so \\nwe can\\'t really complain about that.  \\n\"I think we dominated the match and created good chances so we deserved the \\nwin. I\\'m just so grateful to my team mates and the staff here who\\'ve done such \\na good job of integrating me.\"  \\nMadrid dominated possession in the first half but found it difficult t o break \\ndown Union, who defended resolutely and were impressively marshalled at the \\nback by veteran Italy defender Leonardo Bonucci - a summer signing from \\nJuventus.', metadata={'source': 'Champions-league-2023-2data.pdf', 'page': 11}),\n",
       " Document(page_content=\"Real forward Joselu was lively from the start but missed two headed \\nopportunities early in  the match.  \\nThe 14 -times champions made a fast start to the second half and Rodrygo \\ntwice went close to scoring the opener, having a shot saved by keeper Frederik \\nRonnowfrom close range before unleashing a thunderous volley that cannoned \\noff the post.  \\nCarl o Ancelotti's team continued to turn the screw as the second half wore on \\nwith Union beginning to flag, with the Italian manager bringing on Valverde \\nand Toni Kroos.  \\nJoselu, Antonio Rüdiger and Rodrygo all missed late opportunities to score, \\nbut just as Un ion appeared set for a surprise result, the German resistance was \\npierced when midfielder Bellingham scored on his Champions League debut \\nfor Madrid.  \\nWhile the visitors will be bitterly disappointed to have conceded so late, they \\nwill take heart from their  performance and believe they have a real chance to \\nmake it out of the group stage.  \\nUnion host Portugal's Braga next on Oct. 3 while Real visit Italian champions \\nNapoli.  \\n10. Galatasaray 2 - 2 Copenhagen.  20th September 2023, group stage matchday \\n1 of 6.  \\n11. Bayer n Munich 4 - 3 Manchester United.  20th September 2023, group stage \\nmatchday 1 of 6.  \\nBayern Munich struck twice in four minutes in the first half to set them on \\ntheir way to a 4 -3 victory over an embattled Manchester United on Wednesday \\nand make a winning start in Champions League Group A.  \\nThe hosts looked in control throughout despite some sloppy defending at \\ntimes and came out on top in a seven -goal bonanza with three of the goals \\ncoming in the final few minutes.\", metadata={'source': 'Champions-league-2023-2data.pdf', 'page': 12}),\n",
       " Document(page_content='Goals from Leroy Sané and Serge Gnabry in the 28th and 32nd minutes put \\nthe hosts firmly in the driving seat with injury -hit United, who have now lost \\ntheir last three matches, pulling a goal back in the 49th through Rasmus \\nHojlund\\'s deflected effort.  \\nA Harry Kane penalty, awarded for a handball b y Christian Eriksen, restored \\nBayern\\'s two -goal cushion four minutes later before the game ended with a \\nflurry of late goals.  \\nCasemiro slotted in from close range in the 88th minute but Bayern substitute \\nMathys Tel scored once more in stoppage time before Casemiro headed in \\nanother for United with the last move of the game.  \\nUnited, who lost 3 -1 to both Brighton & Hove Albion and Arsenal in their \\nprevious two games, have now conceded three goals or more in three \\nconsecutive matches for the first time since D ecember 1978.  \\nYet it had started well for the visitors with Eriksen going agonisingly close in \\nthe fourth minute only to see his shot blocked by Bayern keeper Sven Ulreich . \\nIt was a howler by United keeper André Onana that put Bayern in front, with \\nthe Cameroon international misjudging Sane\\'s tame shot and letting it slip \\npast him and into the net.  \\nWith Bayern coach Thomas Tuchel serving a one -match suspension from last \\nseason and assistant Zsolt Loew on the bench, Bayern scored again with Jamal \\nMusiala setting up Gnabry after a fine solo run.  \\nHojlund\\'s deflected effort four minutes after the restart following a quick \\nUnited passing move gave them some hope but Bayern quickly extinguished it \\nin the 53rd with Kane\\'s penalty.  \\n\"Disappointed because we should  stay in the game,\" said United coach Erik \\nten Hag. \"If you score three goals at Bayern Munich you have to take a point.', metadata={'source': 'Champions-league-2023-2data.pdf', 'page': 13}),\n",
       " Document(page_content='\"We are in a period, a lot is going against us. We have to make our own luck. \\nWe\\'ve played great teams in the last three games.\"  \\nIn a f rantic finale Casemiro first hooked the ball in from close range after \\nstumbling to the floor in the 88th minute and then headed their third goal in \\nstoppage time, seconds after Bayern substitute Tel had powered the ball into \\nthe roof of the net.  \\nThe hosts , unbeaten now in their last 28 Champions League group stage home \\nmatches also hit the woodwork through Sane and Thomas Müller in the \\nsecond half.  \\n12. Benfica 0 - 2 RB Salzburg. 20th September 2023, group stage matchday 1 \\nof 6. \\n13. Braga 1 - 2 Napoli. 20th Septemb er 2023, group stage matchday 1 of 6.  \\nA late own goal by Braga defender Sikou Niakate handed Italian champions \\nNapoli a 2 -1 away win in an entertaining Champions League Group C clash on \\nWednesday.  \\nIn a game of many missed chances, Napoli took the lead in first -half stoppage \\ntime through captain Giovanni Di Lorenzo after striker Victor Osimhen \\nnodded the ball away from goal and the Italy defender seized his chance to \\nbounce it in off the bar.  \\nBraga, who are in the Champions League for the third time and the  first in 11 \\nseasons, stepped up their game following the break and forward Bruma \\nequalised in the 84th minute with a header from a perfect cross by substitute \\nRodrigo Zalazar.  \\nBut four minutes later Niakate sealed the win for the visitors with an \\nunfortun ate intervention, netting a pass by Piotr Zielinski from close range \\nwith his first touch.  \\nIn the other Group C game, Real Madrid beat Union Berlin 1 -0 at home with a \\nlate Jude Bellingham goal earlier on Wednesday.', metadata={'source': 'Champions-league-2023-2data.pdf', 'page': 14}),\n",
       " Document(page_content='14. Arsenal 4 - 0 PSV. 20th September 2023, g roup stage matchday 1 of 6.  \\nArsenal enjoyed a triumphant return to the Champions League with a 4 -0 \\nthrashing of outclassed PSV Eindhoven in Group B as their impressive start to \\nthe season continued on Wednesday.  \\nSix years after their last appearance among Europe\\'s elite, goals by Bukayo \\nSaka, Leandro Trossard and Gabriel Jesus before half -time paved the way for \\nan easy victory, with captain Martin Ødegaard also on target in the second \\nhalf.  \\nSaka, one of several Arsenal players making their debuts in the com petition, \\nstruck from close range after eight minutes and Trossard\\'s low shot made it 2 -\\n0 12 minutes later before Jesus hammered Arsenal\\'s third to effectively wrap \\nup the points.  \\nArsenal, who have taken 13 points from their opening five Premier League \\ngam es, travel to Lens next week while PSV must try to repair some of the \\ndamage at home to Sevilla.  \\nThe last time Arsenal played in the Champions League they suffered a \\nchastening 10 -2 aggregate drubbing at the hands of Bayern Munich, since \\nwhen their perenni al place amongst the Premier League\\'s top -four became a \\nfading memory.  \\nRunners -up spot to Manchester City last season sent them back to the top \\ntable and Dutch side PSV proved the perfect opponents on a rain -drenched \\nnight in north London.  \\n\"It was a beauti ful night,\" Arsenal manager Mikel Arteta told reporters. \"In \\nboth boxes today we were exceptional and that was the difference.  \\n\"I was really excited before the game. Our journey started last year and we \\nearned the right to be in this competition.\"', metadata={'source': 'Champions-league-2023-2data.pdf', 'page': 15}),\n",
       " Document(page_content=\"Arsenal have had to grind out wins this season in the Premier League with \\nteams defending deep to negate their attacking strengths.  \\nBut Dutch league leaders PSV were wide open, allowing Arsenal to do more or \\nless what they pleased.  \\nThe visitors did test David Raya, again preferred to England keeper Aaron \\nRamsdale, in the opening minute when Noa Lang forced the Spaniard into a \\ncomfortable save.  \\nAfter that it was one -way traffic.  \\nArsenal's opener arrived as Saka linked with Ødegaard and when the \\nNorwegian's shot was only parried by Walter Benítez, Saka was alert enough to \\nguide home from close range.  \\nPSV were architects of their own downfall for Arsenal's second, giving the ball \\naway during a foray forward, and a lightning counter -attack ended with Saka \\nsquaring f or Trossard to fizz a low shot across the wet turf and into the corner.  \\nTrossard then turned provider to set up Jesus who took a silky touch before \\nsmashing a shot into the net.  \\nWith a north London derby against Tottenham Hotspur on Sunday, Arsenal \\nmanager  Mikel Arteta had the luxury of making substitutions throughout the \\nsecond half with Saka, Jesus and Declan Rice all getting an early breather.  \\nBut Arsenal were still far too slick for their opponents and captain Ødegaard \\ndrilled in a clinical fourth after  70 minutes to complete a thoroughly satisfying \\nnight.  \\nTougher tests will come but Ødegaard believes Arsenal can have a deep run.\", metadata={'source': 'Champions-league-2023-2data.pdf', 'page': 16}),\n",
       " Document(page_content='\"You saw the motivation and energy right from the start. To be back in this \\ncompetition is huge for this club,\" he said. \"We a re in this competition to \\ncompete and fight to go all the way.\"  \\n15. Sevilla 1 - 1 Lens. 20th September 2023, group stage matchday 1 of 6.  \\n16. Real Sociedad 1 - 1 Inter. 20th September 2023, group stage matchday 1 of \\n6. \\nLautaro Martínez\\'s late goal salvaged a 1 -1 draw for runners -up Inter Milan at \\nReal Sociedad as they kicked off their Champions League campaign on \\nWednesday.  \\nThe Basque team looked the more dominant side for most of the game,their \\nfirst Champions group -stage appearance in a decade, while the Serie A  leaders \\nwill be grateful for their rivals\\' misses in front of goal after a performance far \\nfrom their unbeaten league run.  \\n\"I have congratulated my boys for the great game they played,\" La Real coach \\nImanol Alguacil told Movistar Plus. \"The players, the f ans and myself should \\nbe proud.\"  \\nThe hosts\\' early high pressing paid off after just four minutes when Brais \\nMéndezstole the ball on the edge of the Inter box to fire into the bottom right \\ncorner and make it 1 -0. \\nReal created chances to double the lead, but  Robin Le Normand sent his \\nheader wide before half -time and new keeper Yann Sommer pulled off a great \\nsave to deny Mikel Oyarzabal from close range at the start of the second half.  \\n\"We faced a very strong side tonight, we knew it,\" Inter coach Simone Inzag hi \\ntold Amazon Prime. \"We did well to remain in the game despite playing badly, \\nthanks to our goalkeeper.\"  \\nInter began to threaten their opponents\\' area until the final stretch of the \\nmatch, but could not equalise until Martinez finally scored in the 87th minute \\nfor his sixth goal in five games this season.', metadata={'source': 'Champions-league-2023-2data.pdf', 'page': 17}),\n",
       " Document(page_content='\"I\\'m not satisfied because we did not play as we planned,\" Martinez said. \"We \\nhad a lot of troubles in the first half because we were facing a team who \\npressed us very high and we had difficulties to bui ld from the back with the \\nforwards often going offside.  \\n\"We did not play well but it was important to avoid defeat at least because the \\ngroup would have become more complicated otherwise.\"  \\nIn Group D, Inter and Real are below RB Salzburg, who won 2 -0 at Be nfica, \\nwith the Portuguese champions being hampered by an early red card for \\nAntónio Silva.', metadata={'source': 'Champions-league-2023-2data.pdf', 'page': 18})]"
      ]
     },
     "execution_count": 5,
     "metadata": {},
     "output_type": "execute_result"
    }
   ],
   "source": [
    "from langchain_community.document_loaders import PyPDFLoader\n",
    "\n",
    "loader = PyPDFLoader(\"Champions-league-2023-2data.pdf\")\n",
    "pages = loader.load_and_split()\n",
    "pages"
   ]
  },
  {
   "cell_type": "code",
   "execution_count": 6,
   "metadata": {},
   "outputs": [
    {
     "name": "stdout",
     "output_type": "stream",
     "text": [
      "\n",
      "Answer the question based on the context below. If you can't\n",
      "answer the question, reply \"I don't know\".\n",
      "\n",
      "Context: Here is some context\n",
      "\n",
      "Question: Here is a question\n",
      "\n"
     ]
    }
   ],
   "source": [
    "from langchain.prompts import PromptTemplate\n",
    "\n",
    "template = \"\"\"\n",
    "Answer the question based on the context below. If you can't\n",
    "answer the question, reply \"I don't know\".\n",
    "\n",
    "Context: {context}\n",
    "\n",
    "Question: {question}\n",
    "\"\"\"\n",
    "\n",
    "prompt = PromptTemplate.from_template(template)\n",
    "print(prompt.format(context=\"Here is some context\", question=\"Here is a question\"))"
   ]
  },
  {
   "cell_type": "code",
   "execution_count": 7,
   "metadata": {},
   "outputs": [],
   "source": [
    "chain = prompt | model | parser"
   ]
  },
  {
   "cell_type": "code",
   "execution_count": 8,
   "metadata": {},
   "outputs": [
    {
     "data": {
      "text/plain": [
       "\"I'm ready! Please go ahead and provide the context and question. I'll do my best to answer it.\\n\\n(And if I really don't know the answer, you can be sure I'll let you know!)\""
      ]
     },
     "execution_count": 8,
     "metadata": {},
     "output_type": "execute_result"
    }
   ],
   "source": [
    "chain.invoke(\n",
    "  {\n",
    "    \"context\": \"Here is some context\",\n",
    "    \"question\": \"Here is a question\"\n",
    "  }\n",
    ")"
   ]
  },
  {
   "cell_type": "code",
   "execution_count": 9,
   "metadata": {},
   "outputs": [],
   "source": [
    "from langchain_community.vectorstores import DocArrayInMemorySearch\n",
    "\n",
    "vectorstore = DocArrayInMemorySearch.from_documents(\n",
    "    pages, \n",
    "    embedding=embeddings\n",
    ")"
   ]
  },
  {
   "cell_type": "code",
   "execution_count": 10,
   "metadata": {},
   "outputs": [
    {
     "data": {
      "text/plain": [
       "[Document(page_content='game. The most important was to attack and create chances. We won the \\nmatch thanks to our possession.\"  \\nThere was little  brilliance from the home side in their first grand outing of the \\nseason, but PSG were rarely in danger thanks to their domination of the \\nmidfield before everything seemed to click after Mbappe coolly buried his \\npenalty four minutes into the second half.  \\nDortmund had the first clear chance when Donyell Malen found some space in \\nthe PSG area, only for his shot to be easily saved by Gianluigi Donnarumma.  \\nPSG hit back five minutes later when Vitinha, who bossed the midfield in the \\nopening half, hit the woodwo rk with a fine shot from just outside the area.  \\nThe Portuguese had another opportunity after half an hour but his attempt \\nwas deflected and went over the bar.  \\nPSG lacked a cutting edge until early in the second half when Ousmane \\nDembélé, after a combinatio n with fullback Hakimi on the right flank, found \\nMbappe in the area and the French forward\\'s shot was handled by Niklas \\nSuele.  \\nMbappe converted the resulting penalty to give PSG a deserved lead and net \\nhis 11th goal in his last nine Champions League appear ances.  \\nHakimi doubled the advantage in the 58th minute with a delicate chip from \\nthe outside of his boot after being superbly set up by Vitinha.  \\nPSG then controlled the final 30 minutes and ended up with a clean sheet as \\nBorussia failed to threaten.  \\n4. Shakht ar Donetsk 1 - 3 Porto. 19th September  2023, group stage matchday \\n1 of 6.', metadata={'source': 'Champions-league-2023-2data.pdf', 'page': 3}),\n",
       " Document(page_content=\"7. Barcelona 5 - 0 Antwerp. 19th September  2023, group stage matchday 1 of \\n6. \\nBarcelona's new signing João Félix struck twice in a 5 -0 demolition of visiting \\nRoyal Antwerp  in their Champions League Group H opener at the Estadi \\nOlimpic Lluis Companys on Tuesday.  \\nAfter successive group stage eliminations, Barca gave debutants Antwerp a \\nfootball masterclass, dominating possession with quick passing as Felix, \\nRobert Lewandowski and Gavi all scored.  \\nLast -minute signing Felix opened the scoring with the home side's first \\nattempt in the 11th minute, netting with a low strike inside the near post.  \\nThe Portuguese then set up Lewandowski inside the box to doub le their lead \\neight minutes later as the Poland striker became the third player to score 100 \\ngoals in European competition after Cristiano Ronaldo and Lionel Messi.  \\nRaphinha helped make it 3 -0 to the five -time European champions after 22 \\nminutes when his s trike from a tight angle deflected off defender Jelle Bataille \\nfor an own goal.  \\nWinger Arbnor Muja had a chance to give the visitors a glimmer of hope just \\nbefore half -time, but his low effort from the edge of the box was kept out by \\ngoalkeeper Marc Andre ter Stegen.  \\nXavi Hernandez's Barca returned after the break determined to increase the \\nadvantage in their 28th Champions League group stage campaign, a \\ncompetition record shared with Real Madrid.  \\nThey did not have to wait long as Gavi made it 4 -0 by smashi ng the ball into \\nthe roof of the net before Felix added another goal with a header to complete \\nthe rout at Barca's temporary home while Camp Nou is being redeveloped.\", metadata={'source': 'Champions-league-2023-2data.pdf', 'page': 9}),\n",
       " Document(page_content='Below are Champions league 2023/24 season all game information:   \\n \\nGroups information:  \\nGroup A: Bayern Munich, Copenhagen, Galatasaray, Manchester United  \\nGroup B: Arsenal, PSV, Lens, Sevilla  \\nGroup C: Real Madrid, Napoli, Braga, Union Berlin  \\nGroup D: Real  Sociedad, Inter, Benfica, RB Salzburg  \\nGroup E: Atletico Madrid, Lazio, Feyenoord, Celtic  \\nGroup F: Dortmund, PSG, Milan, Newcastle  \\nGroup G: Manchester City, RB Leipzig, Young Boys, Red Star Belgrade  \\nGroup H: Barcelona, Porto, Shakhtar Donetsk, Antwerp  \\n \\nGam es results:  \\n1. Milan 0 - 0 Newcastle. 19th September  2023, group stage matchday 1 of 6.  \\nAC Milan were held to a 0 -0 draw at San Siro in a hard -fought contest by a \\nNewcastle United side returning to the Champions League after a two -decade \\nabsence as the hosts  spurned numerous opportunities in the Group F opener \\non Tuesday.  \\nMilan\\'s Portugal winger Rafael Leão, who has scored in his last two games, \\nwas a constant threat down the left and kept the Newcastle defence busy but \\nwas let down by his finishing.  \\n\"We\\'re d isappointed, because when you play like this, you have to win,\" Milan \\nmanager Stefano Pioli said.  \\n\"The performance was all -round good, but we wanted to win. Our aim is to \\nprogress from this group and we wanted to start well. We didn\\'t take easy \\nchances.\"  \\nLast year\\'s Champions League semifinalists enjoyed a dominant opening spell \\nand tested Newcastle goalkeeper Nick Pope with long -range efforts from \\nTommaso Pobega and Leão before Samuel Chukwueze had a header saved.  \\nThe best opportunity of the first half fel l to Leão in the 34th minute but the 24 -\\nyear -old miscued an elaborate backheel after skipping past two defenders in \\nthe penalty area.  \\nThough Newcastle defended better after the break, Milan continued to press in \\ntheir search for an opener.  \\nHalf -time substi tute Alessandro Florenzi found Leão with an inch -perfect \\ncross in the 74th minute, but the Portuguese again failed to find the target as \\nhe put his header over the bar.  \\nMilan, who ended the night with a tally of 25 shots, were also dealt a double \\ninjury bl ow with midfielder Ruben Loftus -Cheek and keeper Mike Maignan \\nhaving to be substituted.', metadata={'source': 'Champions-league-2023-2data.pdf', 'page': 0}),\n",
       " Document(page_content='City began the game on a 26 -match unbeaten run in Champions League home \\ngames and normal service was resumed almost immediately after the restart \\nas Álvarez levelled after combining with Erling Haaland.  \\nA misjudgement by Red Sta r keeper Omri Glazer allowed an Álvarez cross to \\ngo into the net on the hour and Rodri made it 3 -1 with a clinical finish after 73 \\nminutes as City made it 19 home wins in succession in all competitions.  \\nJust over three months since City finally claimed Eur ope\\'s biggest club prize \\nwith victory over Inter Milan in Istanbul they began their defence in ultimately \\ncomfortable fashion.  \\nBut for 45 minutes it looked as though it might be one of those nights as \\nchance after chance went begging.  \\nOnce Argentina\\'s Alva rez levelled in the 47th minute, however, only one \\noutcome looked likely.  \\n\"The last two games I didn\\'t know how many chances we missed,\" Guardiola \\nsaid.  \\n\"We played really, really good but we were not able to score goals. We were \\nconsistent and in the end w e won the game.\"  \\nNorwegian goal -machine Haaland has now gone four Champions League \\ngames without hitting the net and he was guilty of some poor misses in a first \\nhalf in which City\\'s 22 goal attempts were the most in the competition since \\ndata began to be compiled.  \\nHe headed one effort wide, another even easier chance against the crossbar \\nand then lashed a shot over.  \\nRed Star keeper Glazer was superb in the first half, denying Phil Foden from \\nclose range and also keeping out efforts by Nathan Aké and Rodri.', metadata={'source': 'Champions-league-2023-2data.pdf', 'page': 6})]"
      ]
     },
     "execution_count": 10,
     "metadata": {},
     "output_type": "execute_result"
    }
   ],
   "source": [
    "retriever = vectorstore.as_retriever()\n",
    "\n",
    "retriever.invoke(\"Manchester\")"
   ]
  },
  {
   "cell_type": "code",
   "execution_count": 13,
   "metadata": {},
   "outputs": [
    {
     "data": {
      "text/plain": [
       "\"I don't know. The provided context does not mention PSG or Dortmund, and there is no information about a match between the two teams.\""
      ]
     },
     "execution_count": 13,
     "metadata": {},
     "output_type": "execute_result"
    }
   ],
   "source": [
    "from operator import itemgetter\n",
    "\n",
    "chain = (\n",
    "    {\"context\": itemgetter(\"question\") | retriever, \"question\": itemgetter(\"question\")}\n",
    "    | prompt\n",
    "    | model\n",
    "    | parser\n",
    ")\n",
    "\n",
    "chain.invoke({\"question\": \"Did PSG win Dortmund?\"})"
   ]
  },
  {
   "cell_type": "code",
   "execution_count": 12,
   "metadata": {},
   "outputs": [
    {
     "name": "stdout",
     "output_type": "stream",
     "text": [
      "Question: What is the result of Braga and Napoli game?\n",
      "Answer: According to the context, the result of the Braga vs Napoli game was 1-2 in favor of Napoli.\n",
      "\n",
      "Question: Did Real Madrid win Union Berlin?\n",
      "Answer: Yes, according to the context, Real Madrid beat Union Berlin 1-0 at home.\n",
      "\n",
      "Question: Against who did Bayern Munich play against?\n",
      "Answer: I don't know. The text does not mention the specific match where Arsenal suffered a \"chastening 10 -2 aggregate drubbing at the hands of Bayern Munich\", so it is unclear which team they played against in that particular match.\n",
      "\n",
      "Question: Did PSG and Dortmund play against each other?\n",
      "Answer: I don't know. There is no information about PSG or Dortmund playing against each other in this context. The documents provided only mention matches involving Arsenal, PSV Eindhoven, Benfica, RB Salzburg, Braga, Napoli, Real Madrid, Union Berlin, Inter, Barcelona, and Antwerp.\n",
      "\n"
     ]
    }
   ],
   "source": [
    "questions = [\n",
    "    \"What is the result of Braga and Napoli game?\",\n",
    "    \"Did Real Madrid win Union Berlin?\",\n",
    "    \"Against who did Bayern Munich play against?\",\n",
    "    \"Did PSG and Dortmund play against each other?\"\n",
    "]\n",
    "\n",
    "for question in questions:\n",
    "  print(f\"Question: {question}\")\n",
    "  print(f\"Answer: {chain.invoke({'question': question})}\")\n",
    "  print()"
   ]
  }
 ],
 "metadata": {
  "kernelspec": {
   "display_name": ".venv",
   "language": "python",
   "name": "python3"
  },
  "language_info": {
   "codemirror_mode": {
    "name": "ipython",
    "version": 3
   },
   "file_extension": ".py",
   "mimetype": "text/x-python",
   "name": "python",
   "nbconvert_exporter": "python",
   "pygments_lexer": "ipython3",
   "version": "3.9.18"
  }
 },
 "nbformat": 4,
 "nbformat_minor": 2
}
